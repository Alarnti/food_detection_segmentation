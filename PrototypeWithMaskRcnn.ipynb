{
 "cells": [
  {
   "cell_type": "code",
   "execution_count": null,
   "id": "9bf78146",
   "metadata": {},
   "outputs": [],
   "source": [
    "import torch\n",
    "import typing\n",
    "import pandas as pd\n",
    "import numpy as np\n",
    "from PIL import Image\n",
    "from pycocotools.coco import COCO\n",
    "import matplotlib.pyplot as plt\n",
    "import cv2\n",
    "\n",
    "%matplotlib inline"
   ]
  },
  {
   "cell_type": "code",
   "execution_count": null,
   "id": "16ea7a2c",
   "metadata": {},
   "outputs": [],
   "source": [
    "RANDOM_SEED = 42\n",
    "\n",
    "np.random.seed(RANDOM_SEED)\n",
    "\n",
    "TRAIN_IMAGES_PATH = 'data/public_training_set_release_2.0/images/'\n",
    "TRAIN_LABELS = 'data/public_training_set_release_2.0/annotations.json'"
   ]
  },
  {
   "cell_type": "markdown",
   "id": "4186e4d5",
   "metadata": {},
   "source": [
    "# Data Exploration"
   ]
  },
  {
   "cell_type": "code",
   "execution_count": null,
   "id": "e9b251d2",
   "metadata": {},
   "outputs": [],
   "source": [
    "def read_image(path: str) -> np.ndarray:\n",
    "    return np.array(Image.open(path))\n",
    "\n",
    "def show_image_coco(image_id: int, coco_labels: COCO, with_mask: bool = True) -> np.ndarray:\n",
    "    im_info = coco_labels.loadImgs(image_id)[0]\n",
    "    \n",
    "    if not with_mask:\n",
    "        plt.imshow(read_image(TRAIN_IMAGES_PATH + im_info['file_name']))\n",
    "    else:\n",
    "        objs_ann = labels.imgToAnns[image_id]\n",
    "        \n",
    "        res_image = read_image(TRAIN_IMAGES_PATH + im_info['file_name'])\n",
    "\n",
    "        plt.imshow(res_image)\n",
    "        labels.showAnns(objs_ann)"
   ]
  },
  {
   "cell_type": "code",
   "execution_count": null,
   "id": "437b5fdf",
   "metadata": {},
   "outputs": [],
   "source": [
    "labels = COCO(TRAIN_LABELS)"
   ]
  },
  {
   "cell_type": "code",
   "execution_count": null,
   "id": "f83e80cd",
   "metadata": {},
   "outputs": [],
   "source": [
    "dir(lables)"
   ]
  },
  {
   "cell_type": "code",
   "execution_count": null,
   "id": "e55d2948",
   "metadata": {},
   "outputs": [],
   "source": [
    "show_image_coco(131094, labels, True)"
   ]
  },
  {
   "cell_type": "code",
   "execution_count": null,
   "id": "3c75e672",
   "metadata": {},
   "outputs": [],
   "source": []
  }
 ],
 "metadata": {
  "kernelspec": {
   "display_name": "Python 3 (ipykernel)",
   "language": "python",
   "name": "python3"
  },
  "language_info": {
   "codemirror_mode": {
    "name": "ipython",
    "version": 3
   },
   "file_extension": ".py",
   "mimetype": "text/x-python",
   "name": "python",
   "nbconvert_exporter": "python",
   "pygments_lexer": "ipython3",
   "version": "3.8.10"
  }
 },
 "nbformat": 4,
 "nbformat_minor": 5
}
