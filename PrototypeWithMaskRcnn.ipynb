{
 "cells": [
  {
   "cell_type": "code",
   "execution_count": null,
   "id": "781571ee",
   "metadata": {},
   "outputs": [],
   "source": [
    "import os\n",
    "import torch\n",
    "import typing\n",
    "from typing import List\n",
    "import pandas as pd\n",
    "import numpy as np\n",
    "from PIL import Image\n",
    "from pycocotools.coco import COCO\n",
    "import matplotlib.pyplot as plt\n",
    "import cv2\n",
    "import torchvision\n",
    "from torchvision.transforms import transforms as transforms\n",
    "\n",
    "%matplotlib inline"
   ]
  },
  {
   "cell_type": "code",
   "execution_count": null,
   "id": "e00571cb",
   "metadata": {},
   "outputs": [],
   "source": [
    "RANDOM_SEED = 42\n",
    "\n",
    "np.random.seed(RANDOM_SEED)\n",
    "\n",
    "TRAIN_IMAGES_PATH = 'data/public_training_set_release_2.0/images/'\n",
    "TRAIN_LABELS = 'data/public_training_set_release_2.0/annotations.json'"
   ]
  },
  {
   "cell_type": "markdown",
   "id": "c300702b",
   "metadata": {},
   "source": [
    "# Data Exploration"
   ]
  },
  {
   "cell_type": "code",
   "execution_count": null,
   "id": "4c95aeb7",
   "metadata": {},
   "outputs": [],
   "source": [
    "def read_image(path: str) -> np.ndarray:\n",
    "    return np.array(Image.open(path))\n",
    "\n",
    "def show_image_coco(image_id: int, coco_labels: COCO, with_mask: bool = True) -> np.ndarray:\n",
    "    im_info = coco_labels.loadImgs(image_id)[0]\n",
    "    \n",
    "    if not with_mask:\n",
    "        plt.imshow(read_image(TRAIN_IMAGES_PATH + im_info['file_name']))\n",
    "    else:\n",
    "        objs_ann = labels.imgToAnns[image_id]\n",
    "        \n",
    "        res_image = read_image(TRAIN_IMAGES_PATH + im_info['file_name'])\n",
    "\n",
    "        plt.imshow(res_image)\n",
    "        labels.showAnns(objs_ann)"
   ]
  },
  {
   "cell_type": "code",
   "execution_count": null,
   "id": "bb4fc615",
   "metadata": {},
   "outputs": [],
   "source": [
    "labels = COCO(TRAIN_LABELS)"
   ]
  },
  {
   "cell_type": "code",
   "execution_count": null,
   "id": "96c7e1b5",
   "metadata": {},
   "outputs": [],
   "source": [
    "dir(labels)"
   ]
  },
  {
   "cell_type": "code",
   "execution_count": null,
   "id": "30708b89",
   "metadata": {},
   "outputs": [],
   "source": [
    "img_ids = labels.getImgIds()\n",
    "#184135\n",
    "labels.imgToAnns[img_ids[1]]"
   ]
  },
  {
   "cell_type": "code",
   "execution_count": null,
   "id": "9f04ca93",
   "metadata": {},
   "outputs": [],
   "source": [
    "len(labels.getCatIds())"
   ]
  },
  {
   "cell_type": "code",
   "execution_count": null,
   "id": "52115149",
   "metadata": {},
   "outputs": [],
   "source": [
    "show_image_coco(img_ids[66], labels, True)"
   ]
  },
  {
   "cell_type": "markdown",
   "id": "7481cac8",
   "metadata": {},
   "source": [
    "# Dataset"
   ]
  },
  {
   "cell_type": "code",
   "execution_count": null,
   "id": "40972650",
   "metadata": {},
   "outputs": [],
   "source": [
    "class FoodDataset(torch.utils.data.Dataset):\n",
    "    def __init__(self, img_path: str, coco_ds_path: str, trans: torchvision.transforms = None):\n",
    "        self.img_path = img_path\n",
    "        self.trans = trans\n",
    "\n",
    "        self.coco_ds = COCO(coco_ds_path)\n",
    "        self.img_ids  = sorted(self.coco_ds.getImgIds())\n",
    "        \n",
    "    def __getitem__(self, idx:int) -> dict:\n",
    "        '''\n",
    "        Args:\n",
    "            idx: index of sample\n",
    "        return:\n",
    "            dict containing:\n",
    "            - np.ndarray image of shape (H, W)\n",
    "            - target (dict) containing: \n",
    "                - boxes:    FloatTensor[N, 4], N being the n° of instances and it's bounding \n",
    "                boxe coordinates in [x0, y0, x1, y1] format, ranging from 0 to W and 0 to H;\n",
    "                - labels:   Int64Tensor[N], class label (0 is background);\n",
    "                - image_id: Int64Tensor[1], unique id for each image;\n",
    "                - area:     Tensor[N], area of bbox;\n",
    "                - iscrowd:  UInt8Tensor[N], True or False;\n",
    "                - masks:    UInt8Tensor[N, H, W], segmantation maps;\n",
    "        '''\n",
    "        img_id = self.img_ids[idx]\n",
    "        img_obj = self.coco_ds.loadImgs(img_id)[0]\n",
    "        anns_obj = self.coco_ds.loadAnns(self.coco_ds.getAnnIds(img_id)) \n",
    "\n",
    "        img = Image.open(os.path.join(self.img_path, img_obj['file_name']))\n",
    "\n",
    "        bboxes = [ann['bbox'] for ann in anns_obj]\n",
    "        masks = [self.coco_ds.annToMask(ann) for ann in anns_obj]\n",
    "        areas = [ann['area'] for ann in anns_obj]\n",
    "\n",
    "        boxes = torch.as_tensor(bboxes, dtype=torch.float32)\n",
    "        labels = torch.ones(len(anns_obj), dtype=torch.int64)\n",
    "        masks = torch.as_tensor(masks, dtype=torch.uint8)\n",
    "        image_id = torch.tensor([idx])\n",
    "        area = torch.as_tensor(areas)\n",
    "        iscrowd = torch.zeros(len(anns_obj), dtype=torch.int64)\n",
    "\n",
    "\n",
    "        target = {}\n",
    "        target[\"boxes\"] = boxes\n",
    "        target[\"labels\"] = labels\n",
    "        target[\"masks\"] = masks\n",
    "        target[\"image_id\"] = image_id\n",
    "        target[\"area\"] = area\n",
    "        target[\"iscrowd\"] = iscrowd\n",
    "\n",
    "        if self.trans is not None and False:\n",
    "            img, target = self.trans(img, target)\n",
    "\n",
    "        return img, target\n",
    "\n",
    "    def __len__(self) -> int:\n",
    "        return len(self.imgs)"
   ]
  },
  {
   "cell_type": "code",
   "execution_count": null,
   "id": "35d9c3a6",
   "metadata": {},
   "outputs": [],
   "source": [
    "trans = transforms.Compose([\n",
    "    transforms.ToTensor()\n",
    "])\n",
    "a = FoodDataset(TRAIN_IMAGES_PATH, TRAIN_LABELS, trans)"
   ]
  },
  {
   "cell_type": "code",
   "execution_count": null,
   "id": "03e9d418",
   "metadata": {},
   "outputs": [],
   "source": [
    "c = a.__getitem__(0)"
   ]
  },
  {
   "cell_type": "code",
   "execution_count": null,
   "id": "9dd272a6",
   "metadata": {},
   "outputs": [],
   "source": [
    "model = torchvision.models.detection.maskrcnn_resnet50_fpn(pretrained=True, progress=True, \n",
    "                                                           num_classes=91) #498\n",
    "# set the computation device\n",
    "device = torch.device('cuda' if torch.cuda.is_available() else 'cpu')\n",
    "# load the modle on to the computation device and set to eval mode\n",
    "model.to(device).eval()"
   ]
  },
  {
   "cell_type": "code",
   "execution_count": null,
   "id": "20d16ade",
   "metadata": {},
   "outputs": [],
   "source": [
    "\n",
    "data = a.__getitem__(0)[0]\n",
    "image = torch.unsqueeze(torch.transpose(torch.from_numpy(np.array(data)/255.0),0,2),0).float().to(device)\n",
    "\n",
    "model(image)"
   ]
  },
  {
   "cell_type": "code",
   "execution_count": null,
   "id": "793a52e8",
   "metadata": {},
   "outputs": [],
   "source": [
    "image.shape"
   ]
  },
  {
   "cell_type": "code",
   "execution_count": null,
   "id": "8894c12a",
   "metadata": {},
   "outputs": [],
   "source": [
    "transforms"
   ]
  },
  {
   "cell_type": "code",
   "execution_count": null,
   "id": "da2d532b",
   "metadata": {},
   "outputs": [],
   "source": []
  }
 ],
 "metadata": {
  "kernelspec": {
   "display_name": "Python 3 (ipykernel)",
   "language": "python",
   "name": "python3"
  },
  "language_info": {
   "codemirror_mode": {
    "name": "ipython",
    "version": 3
   },
   "file_extension": ".py",
   "mimetype": "text/x-python",
   "name": "python",
   "nbconvert_exporter": "python",
   "pygments_lexer": "ipython3",
   "version": "3.8.10"
  }
 },
 "nbformat": 4,
 "nbformat_minor": 5
}
